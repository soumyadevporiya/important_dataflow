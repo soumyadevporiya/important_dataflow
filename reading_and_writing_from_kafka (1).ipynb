{
 "cells": [
  {
   "cell_type": "code",
   "execution_count": 1,
   "id": "1aa95404-8440-43c2-ab29-66a8b1b9be47",
   "metadata": {},
   "outputs": [],
   "source": [
    "#Create the Options first\n",
    "\n",
    "\n",
    "import google.auth\n",
    "from apache_beam.options.pipeline_options import PipelineOptions\n",
    "from apache_beam.options.pipeline_options import GoogleCloudOptions\n",
    "#from apache_beam.utils.pipeline_options import SetupOptions\n",
    "from apache_beam.options.pipeline_options import StandardOptions\n",
    "\n",
    "options = PipelineOptions()\n",
    "\n",
    "#Setting the Options Programmatically\n",
    "options = PipelineOptions(flags=[])\n",
    "\n",
    "#set the project to the default project in your current Google Cloud Environment\n",
    "_, options.view_as(GoogleCloudOptions).project=google.auth.default()\n",
    "\n",
    "# Sets the pipeline mode to streaming, so we can stream the data from PubSub.\n",
    "options.view_as(StandardOptions).streaming = True\n",
    "\n",
    "#Set the Google Cloud Region in which Cloud Dataflow run\n",
    "options.view_as(GoogleCloudOptions).region='us-west1'\n",
    "\n",
    "#Cloud Storage Location\n",
    "dataflow_gcs_location='gs://gcp-dataeng-demos-soumya/dataflow'\n",
    "\n",
    "#Dataflow Staging Location. This location is used to stage the Dataflow Pipeline and SDK binary\n",
    "options.view_as(GoogleCloudOptions).staging_location = '{}/staging'.format(dataflow_gcs_location)\n",
    "#Dataflow Temp Location. This location is used to store temporary files or intermediate results before finally outputting\n",
    "options.view_as(GoogleCloudOptions).temp_location = '{}/temp'.format(dataflow_gcs_location)\n",
    "#The directory to store the output files of the job\n",
    "output_gcs_location = '{}/output'.format(dataflow_gcs_location)"
   ]
  },
  {
   "cell_type": "code",
   "execution_count": 11,
   "id": "82cb3f30-d250-4050-9970-93fc20268bcf",
   "metadata": {},
   "outputs": [
    {
     "name": "stderr",
     "output_type": "stream",
     "text": [
      "\n",
      "[notice] A new release of pip available: 22.3.1 -> 23.0.1\n",
      "[notice] To update, run: /jupyter/.kernels/apache-beam-2.44.0/bin/python -m pip install --upgrade pip\n",
      "\n",
      "[notice] A new release of pip available: 22.3.1 -> 23.0.1\n",
      "[notice] To update, run: /jupyter/.kernels/apache-beam-2.44.0/bin/python -m pip install --upgrade pip\n"
     ]
    }
   ],
   "source": [
    "import apache_beam as beam\n",
    "from apache_beam.runners import DataflowRunner\n",
    "from apache_beam.io.kafka import ReadFromKafka\n",
    "from apache_beam.io.kafka import WriteToKafka\n",
    "\n",
    "bootstrap_servers = '34.28.118.32:9094'\n",
    "topic = 'my-topic'\n",
    "write_topic = 'my-fifth-topic'\n",
    "\n",
    "p = beam.Pipeline(options=options)\n",
    "stage1 = p| ReadFromKafka(\n",
    "            consumer_config={'bootstrap.servers': bootstrap_servers},\n",
    "            topics=[topic])\n",
    "\n",
    "stage3 = stage1|beam.WindowInto(beam.window.FixedWindows(10))\n",
    "stage4 = stage3|WriteToKafka(\n",
    "            producer_config={'bootstrap.servers': bootstrap_servers},\n",
    "            topic=write_topic)\n",
    "pipeline_result = DataflowRunner().run_pipeline(p, options=options)"
   ]
  },
  {
   "cell_type": "code",
   "execution_count": null,
   "id": "9e575765-ef73-4d3c-9cda-1ac6f772a593",
   "metadata": {},
   "outputs": [],
   "source": []
  }
 ],
 "metadata": {
  "kernelspec": {
   "display_name": "01. Apache Beam 2.44.0 for Python 3",
   "language": "python",
   "name": "01-apache-beam-2.44.0"
  },
  "language_info": {
   "codemirror_mode": {
    "name": "ipython",
    "version": 3
   },
   "file_extension": ".py",
   "mimetype": "text/x-python",
   "name": "python",
   "nbconvert_exporter": "python",
   "pygments_lexer": "ipython3",
   "version": "3.8.10"
  }
 },
 "nbformat": 4,
 "nbformat_minor": 5
}
