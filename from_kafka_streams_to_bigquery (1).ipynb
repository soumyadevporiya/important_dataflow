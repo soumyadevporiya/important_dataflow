{
 "cells": [
  {
   "cell_type": "code",
   "execution_count": 14,
   "id": "0f7c2b56-4c25-4281-a29a-c88198d6252d",
   "metadata": {},
   "outputs": [],
   "source": [
    "#Create the Options first\n",
    "\n",
    "\n",
    "import google.auth\n",
    "from apache_beam.options.pipeline_options import PipelineOptions\n",
    "from apache_beam.options.pipeline_options import GoogleCloudOptions\n",
    "#from apache_beam.utils.pipeline_options import SetupOptions\n",
    "from apache_beam.options.pipeline_options import StandardOptions\n",
    "\n",
    "options = PipelineOptions()\n",
    "\n",
    "#Setting the Options Programmatically\n",
    "options = PipelineOptions(flags=[])\n",
    "\n",
    "#set the project to the default project in your current Google Cloud Environment\n",
    "_, options.view_as(GoogleCloudOptions).project=google.auth.default()\n",
    "\n",
    "# Sets the pipeline mode to streaming, so we can stream the data from PubSub.\n",
    "options.view_as(StandardOptions).streaming = True\n",
    "\n",
    "#Set the Google Cloud Region in which Cloud Dataflow run\n",
    "options.view_as(GoogleCloudOptions).region='us-west1'\n",
    "\n",
    "#Cloud Storage Location\n",
    "dataflow_gcs_location='gs://gcp-dataeng-demos-soumya/dataflow'\n",
    "\n",
    "#Dataflow Staging Location. This location is used to stage the Dataflow Pipeline and SDK binary\n",
    "options.view_as(GoogleCloudOptions).staging_location = '{}/staging'.format(dataflow_gcs_location)\n",
    "#Dataflow Temp Location. This location is used to store temporary files or intermediate results before finally outputting\n",
    "options.view_as(GoogleCloudOptions).temp_location = '{}/temp'.format(dataflow_gcs_location)\n",
    "#The directory to store the output files of the job\n",
    "output_gcs_location = '{}/output'.format(dataflow_gcs_location)"
   ]
  },
  {
   "cell_type": "code",
   "execution_count": 13,
   "id": "1502f6c8-3d08-451c-8c03-0172abad68b4",
   "metadata": {},
   "outputs": [
    {
     "name": "stderr",
     "output_type": "stream",
     "text": [
      "\n",
      "[notice] A new release of pip available: 22.3.1 -> 23.0.1\n",
      "[notice] To update, run: /jupyter/.kernels/apache-beam-2.44.0/bin/python -m pip install --upgrade pip\n",
      "\n",
      "[notice] A new release of pip available: 22.3.1 -> 23.0.1\n",
      "[notice] To update, run: /jupyter/.kernels/apache-beam-2.44.0/bin/python -m pip install --upgrade pip\n"
     ]
    }
   ],
   "source": [
    "import apache_beam as beam\n",
    "from apache_beam.runners import DataflowRunner\n",
    "from apache_beam.io.kafka import ReadFromKafka\n",
    "from apache_beam.io.kafka import WriteToKafka\n",
    "import json\n",
    "\n",
    "bootstrap_servers = '34.28.118.32:9094'\n",
    "topic = 'my-topic'\n",
    "topic2 = 'my-second-topic'\n",
    "write_topic = 'my-fifth-topic'\n",
    "\n",
    "\n",
    "p = beam.Pipeline(options=options)\n",
    "stage1 = p| ReadFromKafka(\n",
    "            consumer_config={'bootstrap.servers': bootstrap_servers},\n",
    "            topics=[topic])\n",
    "stage3 = stage1|beam.Map(lambda x: x[1].decode('utf8'))\n",
    "stage4 = stage3|beam.Map(lambda x: json.loads(x))\n",
    "stage5 = stage4|beam.WindowInto(beam.window.FixedWindows(20))\n",
    "stage6 = stage5| \"Write to Bigquery\">>beam.io.Write(\n",
    "                                               beam.io.WriteToBigQuery(\n",
    "                                                                        'my-table-kafka',\n",
    "                                                                        dataset='gcpdataset',\n",
    "                                                                        project='mimetic-parity-378803',\n",
    "                                                                        schema='v1:FLOAT,v2:FLOAT,v3:FLOAT,v4:FLOAT,id:INTEGER,Time:INTEGER',\n",
    "                                                                        create_disposition=beam.io.BigQueryDisposition.CREATE_IF_NEEDED,\n",
    "                                                                        write_disposition=beam.io.BigQueryDisposition.WRITE_APPEND\n",
    "                                                                        \n",
    "                                                                      )\n",
    "                                                       )\n",
    "\n",
    "pipeline_result = DataflowRunner().run_pipeline(p, options=options)"
   ]
  },
  {
   "cell_type": "code",
   "execution_count": 15,
   "id": "9aa42c2b-8086-44d7-9831-78db138397a7",
   "metadata": {},
   "outputs": [
    {
     "name": "stderr",
     "output_type": "stream",
     "text": [
      "\n",
      "[notice] A new release of pip available: 22.3.1 -> 23.0.1\n",
      "[notice] To update, run: /jupyter/.kernels/apache-beam-2.44.0/bin/python -m pip install --upgrade pip\n",
      "\n",
      "[notice] A new release of pip available: 22.3.1 -> 23.0.1\n",
      "[notice] To update, run: /jupyter/.kernels/apache-beam-2.44.0/bin/python -m pip install --upgrade pip\n"
     ]
    }
   ],
   "source": [
    "import apache_beam as beam\n",
    "from apache_beam.runners import DataflowRunner\n",
    "from apache_beam.io.kafka import ReadFromKafka\n",
    "from apache_beam.io.kafka import WriteToKafka\n",
    "import json\n",
    "\n",
    "bootstrap_servers = '34.28.118.32:9094'\n",
    "topic = 'my-topic'\n",
    "topic2 = 'my-second-topic'\n",
    "write_topic = 'my-fifth-topic'\n",
    "\n",
    "\n",
    "p = beam.Pipeline(options=options)\n",
    "stage1 = p| ReadFromKafka(\n",
    "            consumer_config={'bootstrap.servers': bootstrap_servers},\n",
    "            topics=[topic])\n",
    "stage3 = stage1|beam.Map(lambda x: x[1].decode('utf8'))\n",
    "stage4 = stage3|beam.Map(lambda x: json.loads(x))\n",
    "stage5 = stage4|beam.WindowInto(beam.window.FixedWindows(20))\n",
    "stage6 = stage5| \"Write to Bigquery\">>beam.io.Write(\n",
    "                                               beam.io.WriteToBigQuery(\n",
    "                                                                        'my-table-customer-records',\n",
    "                                                                        dataset='gcpdataset',\n",
    "                                                                        project='mimetic-parity-378803',\n",
    "                                                                        schema='id:STRING,name:STRING,Time:INTEGER',\n",
    "                                                                        create_disposition=beam.io.BigQueryDisposition.CREATE_IF_NEEDED,\n",
    "                                                                        write_disposition=beam.io.BigQueryDisposition.WRITE_APPEND\n",
    "                                                                        \n",
    "                                                                      )\n",
    "                                                       )\n",
    "\n",
    "pipeline_result = DataflowRunner().run_pipeline(p, options=options)"
   ]
  },
  {
   "cell_type": "code",
   "execution_count": null,
   "id": "b9d5711f-7658-4f0b-94fb-2ee5e42b8e96",
   "metadata": {},
   "outputs": [],
   "source": []
  }
 ],
 "metadata": {
  "kernelspec": {
   "display_name": "01. Apache Beam 2.44.0 for Python 3",
   "language": "python",
   "name": "01-apache-beam-2.44.0"
  },
  "language_info": {
   "codemirror_mode": {
    "name": "ipython",
    "version": 3
   },
   "file_extension": ".py",
   "mimetype": "text/x-python",
   "name": "python",
   "nbconvert_exporter": "python",
   "pygments_lexer": "ipython3",
   "version": "3.8.10"
  }
 },
 "nbformat": 4,
 "nbformat_minor": 5
}
